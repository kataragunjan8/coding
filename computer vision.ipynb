{
 "cells": [
  {
   "cell_type": "markdown",
   "metadata": {},
   "source": [
    "## Question3: program that converts colored image to:\n",
    "## 1. black and white\n",
    "## 2. grayscale and \n",
    "## 3. bluescale"
   ]
  },
  {
   "cell_type": "code",
   "execution_count": 23,
   "metadata": {},
   "outputs": [],
   "source": [
    "# question 3\n",
    "\n",
    "import cv2\n",
    "import numpy as np\n",
    "\n",
    "img = cv2.imread('Desktop/cute.jpg')\n",
    "new = cv2.imshow('girl', img)\n",
    "cv2.waitKey(0) \n",
    "cv2.destroyAllWindows()\n",
    "\n",
    "## gray scale image\n",
    "gray_scale = cv2.cvtColor(img, cv2.COLOR_BGR2GRAY)\n",
    "cv2.imshow('gray scale image', gray_scale)\n",
    "cv2.waitKey(0) \n",
    "cv2.destroyAllWindows()\n",
    "\n",
    "## black and white image\n",
    "ret, b_and_w = cv2.threshold(gray_scale, 127, 255, cv2.THRESH_BINARY)\n",
    "cv2.imshow('black and white image', b_and_w)\n",
    "cv2.waitKey(0) \n",
    "cv2.destroyAllWindows()\n",
    "\n",
    "## bluescale image\n",
    "B,G,R = cv2.split(img)\n",
    "zeros = np.zeros(img.shape[:2], dtype = 'uint8')\n",
    "cv2.imshow('blue image', cv2.merge([B,zeros,zeros]))\n",
    "cv2.waitKey(0)\n",
    "cv2.destroyAllWindows()"
   ]
  },
  {
   "cell_type": "markdown",
   "metadata": {},
   "source": [
    "## Question5\n",
    "## write a program to export negative of an image."
   ]
  },
  {
   "cell_type": "code",
   "execution_count": 27,
   "metadata": {},
   "outputs": [],
   "source": [
    "\n",
    "import cv2\n",
    "\n",
    "img = cv2.imread('desktop/cute.jpg')\n",
    "cv2.imshow('original girl image',img)\n",
    "cv2.waitKey(0)\n",
    "\n",
    "neg_img = cv2.bitwise_not(img)\n",
    "cv2.imshow('negative image',neg_img)\n",
    "cv2.waitKey(0)\n",
    "cv2.destroyAllWindows()"
   ]
  },
  {
   "cell_type": "code",
   "execution_count": null,
   "metadata": {},
   "outputs": [],
   "source": []
  },
  {
   "cell_type": "markdown",
   "metadata": {},
   "source": [
    "## Question4\n",
    "## program that counts the no. of human faces in an image. "
   ]
  },
  {
   "cell_type": "code",
   "execution_count": 18,
   "metadata": {},
   "outputs": [
    {
     "name": "stdout",
     "output_type": "stream",
     "text": [
      "no.of faces = 20\n"
     ]
    }
   ],
   "source": [
    "## que 4\n",
    "\n",
    "import cv2\n",
    "face_cascade = cv2.CascadeClassifier('C:/Users/gunjan katara/Downloads/opencv-master/opencv-master/data/haarcascades/haarcascade_frontalface_default.xml')\n",
    "img = cv2.imread('Desktop/human.JPG')\n",
    "cv2.imshow('picture', img)\n",
    "cv2.waitKey(0)\n",
    "cv2.destroyAllWindows()\n",
    "h_faces = face_cascade.detectMultiScale(img, 1.5, 6)\n",
    "count_faces = str(len(h_faces))\n",
    "print ('no.of faces = ' + count_faces)"
   ]
  }
 ],
 "metadata": {
  "kernelspec": {
   "display_name": "Python 3",
   "language": "python",
   "name": "python3"
  },
  "language_info": {
   "codemirror_mode": {
    "name": "ipython",
    "version": 3
   },
   "file_extension": ".py",
   "mimetype": "text/x-python",
   "name": "python",
   "nbconvert_exporter": "python",
   "pygments_lexer": "ipython3",
   "version": "3.7.4"
  }
 },
 "nbformat": 4,
 "nbformat_minor": 2
}
